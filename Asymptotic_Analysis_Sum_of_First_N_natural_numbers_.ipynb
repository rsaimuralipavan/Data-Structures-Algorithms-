{
  "nbformat": 4,
  "nbformat_minor": 0,
  "metadata": {
    "colab": {
      "name": "Asymptotic Analysis- Sum of First N natural numbers..ipynb",
      "provenance": [],
      "collapsed_sections": []
    },
    "kernelspec": {
      "name": "python3",
      "display_name": "Python 3"
    }
  },
  "cells": [
    {
      "cell_type": "markdown",
      "metadata": {
        "id": "bsAEKAt8EHux",
        "colab_type": "text"
      },
      "source": [
        "Analsyis below is base on Considering Programming language & OS are independent of their behaviours (faster execution, CPU Time etc)\n",
        "\n",
        "**Asympotic Analysis:**\n",
        "Measuring the Order of Growth of a program or algo in terms of Input Size \n",
        "\n",
        "Input size will be > = 0 , because input size cannot be negative. \n",
        "\n",
        "Term constant: no matter of value we pass , the code takes a constant time (ex: return sum, sum = 0 etc)\n",
        "\n",
        "Task 1:  Implement a functions to get the Sum of N Natural Numbers.\n",
        "\n",
        "Approches: \n",
        "Generic formulae : sum(N) = (N*(N+1))/2\n",
        "\n",
        "looping every element: \n",
        "\n",
        "looping by incrementing value in sum by 1 for each no of occuranes"
      ]
    },
    {
      "cell_type": "code",
      "metadata": {
        "id": "zo0gPS2XEgU_",
        "colab_type": "code",
        "colab": {
          "base_uri": "https://localhost:8080/",
          "height": 34
        },
        "outputId": "657c2fd0-0239-4caf-8435-a7bf43b94084"
      },
      "source": [
        "# using Generic formalue\n",
        "\n",
        "def func1_sum(n):\n",
        "  return (n*(n+1))/2\n",
        "\n",
        "print(func1_sum(3))\n"
      ],
      "execution_count": 2,
      "outputs": [
        {
          "output_type": "stream",
          "text": [
            "6.0\n"
          ],
          "name": "stdout"
        }
      ]
    },
    {
      "cell_type": "markdown",
      "metadata": {
        "id": "2OHNkZQzImyN",
        "colab_type": "text"
      },
      "source": [
        "**Analysis of time taken by func1_sum.**\n",
        "\n",
        "func1_sum taken constant time - let say we pass n = 100 , function will add 1 to 100 (101) and multiply by 100 and then returns the result by dividing with 2. \n",
        "\n",
        "\n",
        "order of execution : n+1 -> * n -> / 2\n",
        "\n",
        "No of operations that we are doing are constant & not depend on the value of N(any value of N(number)). \n",
        "\n",
        "Hence time taken : constant  -> func1_sum = C1"
      ]
    },
    {
      "cell_type": "code",
      "metadata": {
        "id": "zhzJ6dxNFTpF",
        "colab_type": "code",
        "colab": {
          "base_uri": "https://localhost:8080/",
          "height": 34
        },
        "outputId": "b2650f3f-37cb-483f-edb4-50e51a5acf18"
      },
      "source": [
        "#using looping every element.\n",
        "\n",
        "def func2_sum(n):\n",
        "  sum =0;\n",
        "  for i in range(1,n+1):\n",
        "    sum += i\n",
        "  return sum\n",
        "\n",
        "print(func2_sum(3))"
      ],
      "execution_count": 6,
      "outputs": [
        {
          "output_type": "stream",
          "text": [
            "6\n"
          ],
          "name": "stdout"
        }
      ]
    },
    {
      "cell_type": "markdown",
      "metadata": {
        "id": "0ZAbRk_CKXB9",
        "colab_type": "text"
      },
      "source": [
        "**Analysis of time taken by func2_sum**\n",
        "\n",
        "func2_sum loops from 1 to N and add each value of iteration & adds up to sum & returns the total sum after loops end.\n",
        "\n",
        "here intalization of sum , i and statment Return sum will taken constant time. combinely - **cx+cy+cz -> C3**\n",
        "\n",
        "expression : sum += i (sum = sum + i) will execute based on value in N, if N = 10000 expression will execute 10000 times, if N = 1000, expression will execute for 1000 times. \n",
        "\n",
        "hence for each operation sum += i , takes c2 time & it will repeated for N times, hence total time taken by that expression is **C2*N**\n",
        "\n",
        "--> implies : total time taken by the  **func2_sum is - C3 + C2*N**\n",
        "\n",
        "\n"
      ]
    },
    {
      "cell_type": "code",
      "metadata": {
        "id": "AU0OflfiFt9z",
        "colab_type": "code",
        "colab": {
          "base_uri": "https://localhost:8080/",
          "height": 34
        },
        "outputId": "7c6e12cc-fa93-4307-99c6-9539ba3f6258"
      },
      "source": [
        "#looping by incrementing value in sum by 1 for each no of occuranes\n",
        "\n",
        "def func3_sum(n):\n",
        "  sum = 0;\n",
        "  for i in range(1,n+1):\n",
        "    for j in range(1,i+1):\n",
        "      sum +=1\n",
        "      #print(i,j,sum)\n",
        "  return sum\n",
        "\n",
        "print(func3_sum(3))\n",
        "                 "
      ],
      "execution_count": 9,
      "outputs": [
        {
          "output_type": "stream",
          "text": [
            "6\n"
          ],
          "name": "stdout"
        }
      ]
    },
    {
      "cell_type": "markdown",
      "metadata": {
        "id": "5peSepFROH-z",
        "colab_type": "text"
      },
      "source": [
        "**Analysis of time taken by func2_sum**\n",
        "\n",
        "here intalization of sum , i,j, and statment Return sum will taken constant time. combinely - **cx+cy+cz+ca -> C6**\n",
        "\n",
        "how program executes:  1 time for i =1 , 2 times for i=2, 3 times for i =3 and so on. which means it will run N times when i = N  ( 1+2+3 upto N)   \n",
        "\n",
        "so the program executes for (n * (n+1)) / 2  -> n2 + n \n",
        "\n",
        "total time taken by program is : c4N2+c5N+c6  ( read as c4 * N sqaure + c5 * N + C6)\n"
      ]
    },
    {
      "cell_type": "markdown",
      "metadata": {
        "id": "LLwSTmGlUJ5l",
        "colab_type": "text"
      },
      "source": [
        "![1.PNG](data:image/png;base64,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)"
      ]
    },
    {
      "cell_type": "markdown",
      "metadata": {
        "id": "X_YfgX8ySaLm",
        "colab_type": "text"
      },
      "source": [
        "X axis: value N \n",
        "Y axis : time taken\n",
        "\n",
        "let say for any value of N ,\n",
        " func1_sum takes a constant time of 5ms.  \n",
        " **func1_sum**\n",
        " hence for any value of N , time taken will be constant as the number of operations to be performed was not dependent on the value of N\n",
        "\n",
        " Function C1 will take constant time for any value in N\n",
        "\n",
        "\n",
        "**func2_sum**\n",
        "when value 1 time taken 1 , when value is 2, time taken is 2, value is 3 time taken is 3 and so on for Nth value the time taken is N * time taken by the operations.\n",
        "\n",
        "hence for every value of N , the time taken is also increasing propertionally. \n",
        "\n",
        "\n",
        "\n"
      ]
    }
  ]
}